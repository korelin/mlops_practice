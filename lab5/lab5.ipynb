{
 "cells": [
  {
   "cell_type": "code",
   "execution_count": 116,
   "metadata": {},
   "outputs": [],
   "source": [
    "import os\n",
    "import random\n",
    "import numpy as np\n",
    "import pandas as pd\n",
    "import matplotlib.pyplot as plt\n",
    "from sklearn.preprocessing import StandardScaler\n",
    "from sklearn.linear_model import LinearRegression\n",
    "import pickle\n"
   ]
  },
  {
   "cell_type": "code",
   "execution_count": 117,
   "metadata": {},
   "outputs": [],
   "source": [
    "# Определим названия папки для датасетов.\n",
    "data_folder = 'data'\n",
    "\n",
    "# Проверим, существует ли папка. Если нет, то создадим ее. \n",
    "if not os.path.exists('data'):\n",
    "    os.mkdir('data')"
   ]
  },
  {
   "cell_type": "code",
   "execution_count": 118,
   "metadata": {},
   "outputs": [],
   "source": [
    "# Устанавливаем начальное значение счетчика для нумерации файлов\n",
    "# датасетов и изменения пвраметра шума.\n",
    "counter = 1"
   ]
  },
  {
   "cell_type": "code",
   "execution_count": 119,
   "metadata": {},
   "outputs": [],
   "source": [
    "# Определяем параметры для создания датасета.\n",
    "# Значения предиктора x:\n",
    "x_min = 0\n",
    "x_max = 200\n",
    "\n",
    "# Значения шума:\n",
    "noise_list = [200, 190, 210, 800] \n",
    "# Последнее значение - для зашумленных данных. \n",
    "\n",
    "# Параметры для расчета целевой переменной y:\n",
    "b_0 = 10\n",
    "b_1 = 15\n",
    "\n",
    "# Гиперпараметр для определения количества строк датасета:\n",
    "rows = 100\n",
    "   "
   ]
  },
  {
   "attachments": {},
   "cell_type": "markdown",
   "metadata": {},
   "source": [
    "#### Создание датасетов"
   ]
  },
  {
   "cell_type": "code",
   "execution_count": 120,
   "metadata": {},
   "outputs": [],
   "source": [
    "# Выполняем код ниже 4 раза:\n",
    "while counter < 5:\n",
    "    \n",
    "    # Определяем путь для файла генерируемого датасета.\n",
    "    data_file = 'data/data_' + str(counter) + '.csv'\n",
    "\n",
    "    # Генерируем значения предиктора x.\n",
    "    x = np.array([random.randint(x_min, x_max) for i in range(rows)])\n",
    "\n",
    "    # Генерируем шум.\n",
    "    noise = noise_list[counter-1] \n",
    "    e = np.array([random.randint(-noise, noise) for i in range(rows)])\n",
    "\n",
    "    # Генерируем значения целевой переменной y.\n",
    "    y = b_0 * x/10 + b_1 + e/10\n",
    "\n",
    "    # Объединяем x и y в датафрейм.\n",
    "    data = pd.DataFrame({'x': x, 'y': y})\n",
    "\n",
    "    # Записываем датафрейм в соответствующий файл.\n",
    "    data.to_csv(data_file, index=False)\n",
    "\n",
    "    # Обновляем счетчик\n",
    "    counter += 1"
   ]
  },
  {
   "attachments": {},
   "cell_type": "markdown",
   "metadata": {},
   "source": [
    "#### Обучение модели линейной регрессии на первом датасете"
   ]
  },
  {
   "cell_type": "code",
   "execution_count": 121,
   "metadata": {},
   "outputs": [],
   "source": [
    "# Загружаем датафрейм из файла.\n",
    "data = pd.read_csv('data/data_1.csv')"
   ]
  },
  {
   "cell_type": "code",
   "execution_count": 122,
   "metadata": {},
   "outputs": [
    {
     "data": {
      "image/png": "[encoded data removed]",
      "text/plain": [
       "<Figure size 640x480 with 1 Axes>"
      ]
     },
     "metadata": {},
     "output_type": "display_data"
    }
   ],
   "source": [
    "# Визуализируем данные\n",
    "plt.scatter (data['x'], data['y'])\n",
    "plt.show()"
   ]
  },
  {
   "cell_type": "code",
   "execution_count": 123,
   "metadata": {},
   "outputs": [],
   "source": [
    "# Определяем долю тренировочной выборки:\n",
    "train_ratio = 0.8\n",
    "\n",
    "# Разбиваем данные на тренировочную и тестовую выборки.\n",
    "train_size = int(train_ratio * len(data))\n",
    "train_data = data.iloc[:train_size]\n",
    "test_data = data.iloc[train_size:]"
   ]
  },
  {
   "cell_type": "code",
   "execution_count": 124,
   "metadata": {},
   "outputs": [
    {
     "name": "stdout",
     "output_type": "stream",
     "text": [
      "Model test accuracy is: 0.951\n"
     ]
    }
   ],
   "source": [
    "# Обучаем модель\n",
    "model = LinearRegression().fit(train_data[['x']], train_data['y'])\n",
    "\n",
    "# Выводим метрику:\n",
    "metric_value = model.score(test_data[['x']], test_data['y'])\n",
    "print(f\"Model test accuracy is: {metric_value:.3f}\")"
   ]
  },
  {
   "cell_type": "code",
   "execution_count": 125,
   "metadata": {},
   "outputs": [],
   "source": [
    "# Сохраняем модель\n",
    "pickle.dump(model, open('model.pkl', 'wb'))"
   ]
  },
  {
   "attachments": {},
   "cell_type": "markdown",
   "metadata": {},
   "source": [
    "#### Проверка работы модели с помощью Pytest"
   ]
  },
  {
   "attachments": {},
   "cell_type": "markdown",
   "metadata": {},
   "source": [
    "Создадим скрипт run_model.py для запуска модели"
   ]
  },
  {
   "cell_type": "code",
   "execution_count": 126,
   "metadata": {},
   "outputs": [
    {
     "name": "stdout",
     "output_type": "stream",
     "text": [
      "Overwriting run_model.py\n"
     ]
    }
   ],
   "source": [
    "%%writefile run_model.py\n",
    "import pickle\n",
    "import pandas as pd\n",
    "\n",
    "def model_metric(file_no):\n",
    "    \"\"\"Проверяем работу модели\"\"\"\n",
    "    \n",
    "    # Загружаем модель\n",
    "    with open('model.pkl', 'rb') as f:\n",
    "        model = pickle.load(f)\n",
    "    \n",
    "    # Определяем путь для файла загружаемого датасета.\n",
    "    data_file = 'data/data_' + str(file_no) + '.csv'\n",
    "    \n",
    "    # Загружаем датасет.\n",
    "    data = pd.read_csv(data_file)\n",
    "    \n",
    "    # Проверяем работу модели\n",
    "    metric_value = model.score(data[['x']], data['y'])\n",
    "    return metric_value\n"
   ]
  },
  {
   "attachments": {},
   "cell_type": "markdown",
   "metadata": {},
   "source": [
    "Создадим скрипт test_run_model.py для тестирования результатов работы модели."
   ]
  },
  {
   "cell_type": "code",
   "execution_count": 127,
   "metadata": {},
   "outputs": [
    {
     "name": "stdout",
     "output_type": "stream",
     "text": [
      "Overwriting test_run_model.py\n"
     ]
    }
   ],
   "source": [
    "%%writefile test_run_model.py\n",
    "import pytest\n",
    "from run_model import model_metric\n",
    "\n",
    "list = list(range(2, 5))\n",
    "@pytest.mark.nondestructive\n",
    "@pytest.mark.parametrize(\"file_no\",list)\n",
    "\n",
    "def test_model(file_no):\n",
    "    assert model_metric(file_no) > 0.9\n"
   ]
  },
  {
   "cell_type": "code",
   "execution_count": 128,
   "metadata": {},
   "outputs": [
    {
     "name": "stdout",
     "output_type": "stream",
     "text": [
      "\u001b[1m============================= test session starts ==============================\u001b[0m\n",
      "platform darwin -- Python 3.10.6, pytest-7.2.1, pluggy-1.0.0\n",
      "rootdir: /Users/andrey/Documents/UrFU/20230511_MLOps/lab5\n",
      "plugins: asyncio-0.21.0, jupyter-pytest-2-1.0.1, anyio-3.6.2\n",
      "asyncio: mode=strict\n",
      "collected 3 items                                                              \u001b[0m\u001b[1m\n",
      "\n",
      "test_run_model.py \u001b[32m.\u001b[0m\u001b[32m.\u001b[0m\u001b[31mF\u001b[0m\u001b[31m                                                    [100%]\u001b[0m\n",
      "\n",
      "=================================== FAILURES ===================================\n",
      "\u001b[31m\u001b[1m________________________________ test_model[4] _________________________________\u001b[0m\n",
      "\n",
      "file_no = 4\n",
      "\n",
      "    \u001b[37m@pytest\u001b[39;49;00m.mark.nondestructive\n",
      "    \u001b[37m@pytest\u001b[39;49;00m.mark.parametrize(\u001b[33m\"\u001b[39;49;00m\u001b[33mfile_no\u001b[39;49;00m\u001b[33m\"\u001b[39;49;00m,\u001b[96mlist\u001b[39;49;00m)\n",
      "    \n",
      "    \u001b[94mdef\u001b[39;49;00m \u001b[92mtest_model\u001b[39;49;00m(file_no):\n",
      ">       \u001b[94massert\u001b[39;49;00m model_metric(file_no) > \u001b[94m0.9\u001b[39;49;00m\n",
      "\u001b[1m\u001b[31mE       assert 0.6265480295237676 > 0.9\u001b[0m\n",
      "\u001b[1m\u001b[31mE        +  where 0.6265480295237676 = model_metric(4)\u001b[0m\n",
      "\n",
      "\u001b[1m\u001b[31mtest_run_model.py\u001b[0m:9: AssertionError\n",
      "\u001b[33m=============================== warnings summary ===============================\u001b[0m\n",
      "test_run_model.py:5\n",
      "  /Users/andrey/Documents/UrFU/20230511_MLOps/lab5/test_run_model.py:5: PytestUnknownMarkWarning: Unknown pytest.mark.nondestructive - is this a typo?  You can register custom marks to avoid this warning - for details, see https://docs.pytest.org/en/stable/how-to/mark.html\n",
      "    @pytest.mark.nondestructive\n",
      "\n",
      "-- Docs: https://docs.pytest.org/en/stable/how-to/capture-warnings.html\n",
      "\u001b[36m\u001b[1m=========================== short test summary info ============================\u001b[0m\n",
      "\u001b[31mFAILED\u001b[0m test_run_model.py::\u001b[1mtest_model[4]\u001b[0m - assert 0.6265480295237676 > 0.9\n",
      "\u001b[31m==================== \u001b[31m\u001b[1m1 failed\u001b[0m, \u001b[32m2 passed\u001b[0m, \u001b[33m1 warning\u001b[0m\u001b[31m in 1.84s\u001b[0m\u001b[31m ====================\u001b[0m\n"
     ]
    }
   ],
   "source": [
    "# Проверим, как работает модель на других датасетах.\n",
    "!pytest"
   ]
  },
  {
   "attachments": {},
   "cell_type": "markdown",
   "metadata": {},
   "source": [
    "Как видно, на датасетах №№ 2 и 3 модель показала точность выше 0.9, а на датасете # 4 результаты резко ухудшились.\n",
    "Будем смотреть, в чем причина."
   ]
  },
  {
   "cell_type": "code",
   "execution_count": 129,
   "metadata": {},
   "outputs": [],
   "source": [
    "# Загружаем датафрейм из файла.\n",
    "data = pd.read_csv('data/data_4.csv')"
   ]
  },
  {
   "cell_type": "code",
   "execution_count": 130,
   "metadata": {},
   "outputs": [
    {
     "data": {
      "image/png": "[encoded data removed]",
      "text/plain": [
       "<Figure size 640x480 with 1 Axes>"
      ]
     },
     "metadata": {},
     "output_type": "display_data"
    }
   ],
   "source": [
    "# Визуализируем данные\n",
    "plt.scatter (data['x'], data['y'])\n",
    "plt.show()"
   ]
  },
  {
   "attachments": {},
   "cell_type": "markdown",
   "metadata": {},
   "source": [
    "Понятно, что причина в сильной зашумленности исходных данных датасета № 4."
   ]
  }
 ],
 "metadata": {
  "kernelspec": {
   "display_name": "Python 3",
   "language": "python",
   "name": "python3"
  },
  "language_info": {
   "codemirror_mode": {
    "name": "ipython",
    "version": 3
   },
   "file_extension": ".py",
   "mimetype": "text/x-python",
   "name": "python",
   "nbconvert_exporter": "python",
   "pygments_lexer": "ipython3",
   "version": "3.10.6"
  },
  "orig_nbformat": 4
 },
 "nbformat": 4,
 "nbformat_minor": 2
}
